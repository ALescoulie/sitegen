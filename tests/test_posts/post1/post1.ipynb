{
 "cells": [
  {
   "attachments": {},
   "cell_type": "markdown",
   "metadata": {},
   "source": [
    "# Lorem Ipsum\n",
    "\n",
    "![Cicero](static/cicero.jpg)\n",
    "\n",
    "Lorem ipsum dolor sit amet, consectetur adipiscing elit. Proin mi sapien, feugiat eu cursus ut, suscipit ac erat. Vestibulum faucibus ligula massa, vel mattis magna euismod in. Fusce nec porta dolor. Curabitur non pharetra nulla. Pellentesque mollis vulputate finibus. Sed vehicula malesuada blandit. Cras sit amet eros mollis ex ultrices rhoncus dictum vitae felis. Phasellus vel odio a odio interdum elementum. Lorem ipsum dolor sit amet, consectetur adipiscing elit. In justo dolor, tristique nec laoreet at, tincidunt vitae leo. Fusce pellentesque purus ac vestibulum ullamcorper. Vestibulum condimentum ante urna, quis luctus lorem fringilla eget. Duis varius, enim non pellentesque tincidunt, urna orci maximus tortor, a scelerisque risus augue ac tortor. Suspendisse massa est, malesuada ac molestie at, rutrum tempus elit.\n",
    "\n",
    "Interdum et malesuada fames ac ante ipsum primis in faucibus. In quis imperdiet dui. Cras aliquet mollis aliquam. Aenean ultrices tortor vitae ex tincidunt, ac interdum est tempus. Suspendisse eleifend erat id justo eleifend viverra. Cras sollicitudin malesuada congue. Fusce iaculis ligula non vulputate vehicula. Integer tempus nec urna et bibendum. Vestibulum gravida quis ipsum id aliquet. Nullam eu tristique orci, id dictum tellus. Praesent lacinia odio sed mauris vehicula porta. Ut gravida sollicitudin lacus vehicula dictum. Nullam eu sagittis libero. Aliquam faucibus dolor eget libero malesuada aliquam. Mauris rutrum eros felis, vitae blandit nisi iaculis ut. Quisque varius gravida mollis.\n",
    "\n",
    "Proin vulputate felis at gravida rhoncus. Nullam dapibus augue laoreet risus cursus, quis ullamcorper enim lobortis. Aenean varius libero justo, quis pellentesque nulla ullamcorper ut. Quisque scelerisque odio eget nulla facilisis sodales. Pellentesque ultricies sem sed augue tempor, ac scelerisque sem maximus. Quisque velit odio, maximus sed odio at, interdum lobortis mi. Integer porttitor sit amet sapien sed tempus. Nullam pulvinar diam quis velit viverra lacinia.\n",
    "\n",
    "Nullam gravida quis velit nec malesuada. Donec euismod vitae mauris eget congue. Aliquam non placerat augue. Nam sagittis elementum urna, id accumsan nibh sagittis vitae. Sed vestibulum, nisl sed auctor pretium, odio neque lacinia ante, ut facilisis nisi sem vitae odio. Aenean pellentesque lorem ac ante bibendum, a laoreet lectus auctor. Quisque ut libero mauris. Curabitur ac felis in dui posuere pharetra accumsan id eros. Aliquam semper orci ut risus luctus iaculis sit amet id enim. Maecenas ornare turpis vitae risus ultricies pulvinar. Etiam vitae ornare justo. Fusce finibus eros sapien, ac laoreet nisi rutrum sed. Quisque et finibus diam.\n",
    "\n",
    "Sed efficitur quam ex. Proin a lacus et purus ultricies placerat. Etiam dignissim orci quis purus sagittis rhoncus. In malesuada tempor velit, eget luctus orci placerat non. Quisque egestas justo id tristique convallis. Etiam pellentesque fermentum quam, vel consequat odio finibus non. Morbi sollicitudin luctus arcu vel vulputate. Integer bibendum mi eget purus aliquet tincidunt. Quisque vitae aliquet mauris. Aenean viverra, magna consequat ornare vehicula, felis orci facilisis odio, id luctus nunc enim eu lorem. "
   ]
  },
  {
   "cell_type": "code",
   "execution_count": null,
   "metadata": {},
   "outputs": [
    {
     "ename": "",
     "evalue": "",
     "output_type": "error",
     "traceback": [
      "\u001b[1;31mJupyter cannot be started. Error attempting to locate Jupyter: Running cells with 'alialescoulie-com-yHouQc7r-py3.10' requires the jupyter and notebook package.\n",
      "\u001b[1;31mRun the following command to install 'jupyter and notebook' into the Python environment. \n",
      "\u001b[1;31mCommand: 'python -m pip install jupyter notebook -U\n",
      "\u001b[1;31mor\n",
      "\u001b[1;31mconda install jupyter notebook -U'\n",
      "\u001b[1;31mClick <a href='https://aka.ms/installJupyterForVSCode'>here</a> for more info."
     ]
    }
   ],
   "source": [
    "print(\"Lorem Ipsum\")"
   ]
  }
 ],
 "metadata": {
  "kernelspec": {
   "display_name": "alialescoulie-com-yHouQc7r-py3.10",
   "language": "python",
   "name": "python3"
  },
  "language_info": {
   "name": "python",
   "version": "3.10.12"
  },
  "orig_nbformat": 4
 },
 "nbformat": 4,
 "nbformat_minor": 2
}
